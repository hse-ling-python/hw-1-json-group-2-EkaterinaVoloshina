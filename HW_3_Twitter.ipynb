{
 "cells": [
  {
   "cell_type": "markdown",
   "metadata": {},
   "source": [
    "# **Домашняя работа №1**\n",
    "\n",
    "*Екатерина Волошина, БКЛ-182*\n",
    "\n",
    "Импортируем модуль json."
   ]
  },
  {
   "cell_type": "code",
   "execution_count": 92,
   "metadata": {},
   "outputs": [],
   "source": [
    "import json"
   ]
  },
  {
   "cell_type": "markdown",
   "metadata": {},
   "source": [
    "Делаем из строки json питоновский словарь."
   ]
  },
  {
   "cell_type": "code",
   "execution_count": 93,
   "metadata": {},
   "outputs": [],
   "source": [
    "twitter = []\n",
    "for line in open('hw_3_twitter.json'):\n",
    "    twitter.append(json.loads(line))"
   ]
  },
  {
   "cell_type": "markdown",
   "metadata": {},
   "source": [
    "## Задание 1. Количество твитов\n",
    "Количество твитов в наборе равно длине списка."
   ]
  },
  {
   "cell_type": "code",
   "execution_count": 94,
   "metadata": {},
   "outputs": [],
   "source": [
    "len_twitter = len(twitter)"
   ]
  },
  {
   "cell_type": "markdown",
   "metadata": {},
   "source": [
    "### Ответ:"
   ]
  },
  {
   "cell_type": "code",
   "execution_count": 95,
   "metadata": {},
   "outputs": [
    {
     "name": "stdout",
     "output_type": "stream",
     "text": [
      "2556\n"
     ]
    }
   ],
   "source": [
    "print(len_twitter)"
   ]
  },
  {
   "cell_type": "markdown",
   "metadata": {},
   "source": [
    "## Задание 2. Удаленные твиты\n",
    "Ищем записи, в ключах которых есть **'delete'**, с помощью счетчика считаем количество таких твитов, а затем их отношение к общему числу твитов."
   ]
  },
  {
   "cell_type": "code",
   "execution_count": 96,
   "metadata": {},
   "outputs": [],
   "source": [
    "del_counter = 0 # создаем счетчик\n",
    "for i in twitter:\n",
    "    if 'delete' in i:\n",
    "        del_counter += 1\n",
    "delete = del_counter/len(twitter)*100"
   ]
  },
  {
   "cell_type": "markdown",
   "metadata": {},
   "source": [
    "### Ответ:"
   ]
  },
  {
   "cell_type": "code",
   "execution_count": 97,
   "metadata": {},
   "outputs": [
    {
     "name": "stdout",
     "output_type": "stream",
     "text": [
      "14.162754303599373\n"
     ]
    }
   ],
   "source": [
    "print(delete)"
   ]
  },
  {
   "cell_type": "markdown",
   "metadata": {},
   "source": [
    "## Задание 3. Самые популярные языки твитов\n",
    "В твитах находим ключ **'lang'** и создаем из его значений список, который с помощью Counter превращаем в частотный словарь. Печатаем 10 самых популярных языков твитов."
   ]
  },
  {
   "cell_type": "code",
   "execution_count": 98,
   "metadata": {},
   "outputs": [],
   "source": [
    "import collections\n",
    "lang_list = [] # создаем пустой список для языков\n",
    "for i in twitter:\n",
    "    if 'lang' in i:\n",
    "        lang_list.append(i['lang']) # добавляем в список язык каждого твита\n",
    "lang_count = collections.Counter(lang_list).most_common()"
   ]
  },
  {
   "cell_type": "markdown",
   "metadata": {},
   "source": [
    "### Ответ:"
   ]
  },
  {
   "cell_type": "code",
   "execution_count": 99,
   "metadata": {},
   "outputs": [
    {
     "name": "stdout",
     "output_type": "stream",
     "text": [
      "1   en  \t 719\n",
      "2   ja  \t 438\n",
      "3   es  \t 173\n",
      "4   ko  \t 149\n",
      "5   th  \t 123\n",
      "6   ar  \t 119\n",
      "7   und  \t 117\n",
      "8   in  \t 71\n",
      "9   pt  \t 69\n",
      "10   fr  \t 35\n"
     ]
    }
   ],
   "source": [
    "for i in range(10):\n",
    "    print (i+1, ' ', lang_count[i][0], ' \\t', lang_count[i][1])"
   ]
  },
  {
   "cell_type": "markdown",
   "metadata": {},
   "source": [
    "## Задание 4. Авторы твитов\n",
    "Создаем список из авторов всех твитов в наборе, с помощью Counter создаем частотный словарь и считаем число авторов, написавших больше одного твита."
   ]
  },
  {
   "cell_type": "code",
   "execution_count": 100,
   "metadata": {},
   "outputs": [],
   "source": [
    "user_list = [] # создаем пустой список для id авторов\n",
    "for i in twitter:\n",
    "    if 'user' in i:\n",
    "        user_list.append(i['user']['id']) # добавляем в список id автора каждого твита\n",
    "user_count = collections.Counter(user_list) \n",
    "counter = 0 \n",
    "for value in user_count.values(): # считаем, у скольких авторов значений (твитов) больше 1\n",
    "    if value > 1:\n",
    "        counter += 1"
   ]
  },
  {
   "cell_type": "markdown",
   "metadata": {},
   "source": [
    "### Ответ:"
   ]
  },
  {
   "cell_type": "code",
   "execution_count": 101,
   "metadata": {},
   "outputs": [
    {
     "name": "stdout",
     "output_type": "stream",
     "text": [
      "25\n"
     ]
    }
   ],
   "source": [
    "print(counter)"
   ]
  },
  {
   "cell_type": "markdown",
   "metadata": {},
   "source": [
    "## Задание 5. Топ-20 хэштегов\n",
    "Проверяем, есть ли в ключах **entities**, значение которого - словарь. В этом словаре ищем ключ **hashtags** и проверяем, не является ли его значение пустым списком. Значением hashtags должен быть лист из словарей, в каждом словаре ищем ключ **text** и добавляем его значение в список. Затем создаем из списка частотный словарь и распечатываем топ-20 хэштегов."
   ]
  },
  {
   "cell_type": "code",
   "execution_count": 102,
   "metadata": {},
   "outputs": [],
   "source": [
    "hashtag_list = [] # создаем пустой список для хэштегов\n",
    "for i in twitter:\n",
    "    if 'entities' in i:\n",
    "        if 'hashtags' in i['entities'] and i['entities']['hashtags'] != []: \n",
    "            for one in i['entities']['hashtags']:\n",
    "                hashtag_list.append(one['text']) # добавляем хэштеги в список\n",
    "hashtag_counter = collections.Counter(hashtag_list).most_common() "
   ]
  },
  {
   "cell_type": "markdown",
   "metadata": {},
   "source": [
    "### Ответ: "
   ]
  },
  {
   "cell_type": "code",
   "execution_count": 103,
   "metadata": {},
   "outputs": [
    {
     "name": "stdout",
     "output_type": "stream",
     "text": [
      "1 BTS  -  17\n",
      "2 방탄소년단  -  13\n",
      "3 AMAs  -  11\n",
      "4 人気投票ガチャ  -  8\n",
      "5 태형  -  7\n",
      "6 뷔  -  6\n",
      "7 BTSinChicago  -  5\n",
      "8 BTSLoveYourselfTour  -  5\n",
      "9 오늘의방탄  -  5\n",
      "10 PledgeForSwachhBharat  -  5\n",
      "11 MPN  -  5\n",
      "12 PCAs  -  4\n",
      "13 V  -  4\n",
      "14 시카고1회차공연  -  4\n",
      "15 เป๊กผลิตโชค  -  4\n",
      "16 JIMIN  -  4\n",
      "17 running  -  3\n",
      "18 NCT  -  3\n",
      "19 지민  -  3\n",
      "20 WajahmuPlastik  -  3\n"
     ]
    }
   ],
   "source": [
    "for i in range(20):\n",
    "    print (i + 1, hashtag_counter[i][0], ' - ', hashtag_counter[i][1])"
   ]
  },
  {
   "cell_type": "markdown",
   "metadata": {},
   "source": [
    "## Задание 6. Частотный словарь"
   ]
  },
  {
   "cell_type": "markdown",
   "metadata": {},
   "source": [
    "Для этого задания понадобятся регулярные выражения, поэтому для начала импортируем модуль re"
   ]
  },
  {
   "cell_type": "code",
   "execution_count": 104,
   "metadata": {},
   "outputs": [],
   "source": [
    "import re"
   ]
  },
  {
   "cell_type": "markdown",
   "metadata": {},
   "source": [
    "Среди всех твитов (кроме удаленных) ищем все твиты на английском, кроме репостов и цитат."
   ]
  },
  {
   "cell_type": "code",
   "execution_count": 105,
   "metadata": {},
   "outputs": [],
   "source": [
    "text_list = []\n",
    "for i in twitter:\n",
    "    if 'delete' not in i and i['lang'] == 'en':\n",
    "        if 'retweeted_status' not in i and 'quoted_status' not in i:\n",
    "            text = i['text']\n",
    "            text = re.sub(r'@\\S+', r'', text) # удаляем ссылки на других пользователей\n",
    "            text = re.sub(r'#\\S+', r'', text) # удаляем хэштеги\n",
    "            text = re.sub(r'https?:\\S+', r'', text) # удаляем ссылки\n",
    "            text = re.sub(r'[^a-zA-Z \\s]', ' ', text) # удаляем все символы, кроме букв и пробельных символов\n",
    "            text = text.lower() # приводим к нижнему регистру\n",
    "            text = re.split('\\s', text)\n",
    "            for i in text:\n",
    "                if i != '':\n",
    "                    text_list.append(i)\n",
    "text_counter = collections.Counter(text_list).most_common()"
   ]
  },
  {
   "cell_type": "markdown",
   "metadata": {},
   "source": [
    "### Ответ: "
   ]
  },
  {
   "cell_type": "code",
   "execution_count": 106,
   "metadata": {},
   "outputs": [
    {
     "name": "stdout",
     "output_type": "stream",
     "text": [
      "1   the  -  107\n",
      "2   i  -  81\n",
      "3   to  -  79\n",
      "4   a  -  73\n",
      "5   and  -  59\n",
      "6   it  -  52\n",
      "7   you  -  50\n",
      "8   is  -  41\n",
      "9   of  -  41\n",
      "10   for  -  40\n",
      "11   that  -  38\n",
      "12   s  -  38\n",
      "13   in  -  32\n",
      "14   t  -  31\n",
      "15   my  -  26\n",
      "16   me  -  26\n",
      "17   on  -  25\n",
      "18   be  -  22\n",
      "19   this  -  20\n",
      "20   are  -  20\n"
     ]
    }
   ],
   "source": [
    "for i in range(20): \n",
    "    print(i+1, ' ', text_counter[i][0], ' - ', text_counter[i][1])"
   ]
  },
  {
   "cell_type": "markdown",
   "metadata": {},
   "source": [
    "## Задание 7. Топ-10 авторов с самым большим количеством подписчиков\n",
    "Создаем словарь, значение которого - имя автора, а ключ - количество его фолловеров. Затем сортируем словарь и печатаем топ-10."
   ]
  },
  {
   "cell_type": "code",
   "execution_count": 107,
   "metadata": {},
   "outputs": [],
   "source": [
    "user_dict = {}\n",
    "for i in twitter:\n",
    "    if 'user' in i:\n",
    "        user_dict[i['user']['name']] = i['user']['followers_count'] # создаем пару в словаре: user - followers\n",
    "sort_fol = sorted(user_dict.items(), key=lambda item: (-item[1], item[0]))"
   ]
  },
  {
   "cell_type": "markdown",
   "metadata": {},
   "source": [
    "### Ответ:"
   ]
  },
  {
   "cell_type": "code",
   "execution_count": 108,
   "metadata": {},
   "outputs": [
    {
     "name": "stdout",
     "output_type": "stream",
     "text": [
      "1   Filosofía♕  -  2521403\n",
      "2   FITNESS Magazine  -  1491309\n",
      "3   malaysiakini.com  -  1206759\n",
      "4   NYT Science  -  1137374\n",
      "5   Gramática  -  625463\n",
      "6   TGRT Haber  -  392472\n",
      "7   The Sun Football ⚽  -  383698\n",
      "8   Melbourne, Australia  -  374222\n",
      "9   Roznama Express  -  318189\n",
      "10   💞 ცųཞɠɛཞცơơɠıɛ 💞  -  311319\n"
     ]
    }
   ],
   "source": [
    "for i in range (10):\n",
    "    print (i+1, ' ', sort_fol[i][0], ' - ', sort_fol[i][1])"
   ]
  },
  {
   "cell_type": "markdown",
   "metadata": {},
   "source": [
    "## Задание 8. Топ-10 источников\n",
    "Ищем с помощью регулярных выражений источник твита, добавляем в список, с помощью Counter делаем частотный словарь и упорядочиваем его."
   ]
  },
  {
   "cell_type": "code",
   "execution_count": 109,
   "metadata": {},
   "outputs": [],
   "source": [
    "source_list = []\n",
    "for i in twitter:\n",
    "    if 'source' in i:\n",
    "        match = re.findall(r'(?:<[^>]+>)([^<]+)', i['source'])\n",
    "        source_list.extend(match)\n",
    "source_count = collections.Counter(source_list).most_common()"
   ]
  },
  {
   "cell_type": "markdown",
   "metadata": {},
   "source": [
    "### Ответ:"
   ]
  },
  {
   "cell_type": "code",
   "execution_count": 110,
   "metadata": {},
   "outputs": [
    {
     "name": "stdout",
     "output_type": "stream",
     "text": [
      "1 Twitter for iPhone  -  800\n",
      "2 Twitter for Android  -  695\n",
      "3 Twitter Web Client  -  140\n",
      "4 twittbot.net  -  122\n",
      "5 Twitter Lite  -  51\n",
      "6 Twitter for iPad  -  28\n",
      "7 TweetDeck  -  23\n",
      "8 Facebook  -  17\n",
      "9 IFTTT  -  14\n",
      "10 تطبيق قرآني  -  10\n"
     ]
    }
   ],
   "source": [
    "for i in range(10):\n",
    "    print (i+1, source_count[i][0], ' - ', source_count[i][1])"
   ]
  }
 ],
 "metadata": {
  "kernelspec": {
   "display_name": "Python 3",
   "language": "python",
   "name": "python3"
  },
  "language_info": {
   "codemirror_mode": {
    "name": "ipython",
    "version": 3
   },
   "file_extension": ".py",
   "mimetype": "text/x-python",
   "name": "python",
   "nbconvert_exporter": "python",
   "pygments_lexer": "ipython3",
   "version": "3.7.3"
  }
 },
 "nbformat": 4,
 "nbformat_minor": 2
}
